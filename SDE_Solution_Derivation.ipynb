{
 "cells": [
  {
   "cell_type": "code",
   "execution_count": 1,
   "metadata": {
    "collapsed": false
   },
   "outputs": [
    {
     "name": "stderr",
     "output_type": "stream",
     "text": [
      "/home/ash/anaconda2/envs/python3/lib/python3.5/site-packages/IPython/extensions/sympyprinting.py:31: UserWarning: The sympyprinting extension has moved to `sympy`, use `from sympy import init_printing; init_printing()`\n",
      "  warnings.warn(\"The sympyprinting extension has moved to `sympy`, \"\n"
     ]
    }
   ],
   "source": [
    "%load_ext sympyprinting\n",
    "%matplotlib inline\n",
    "import matplotlib.pyplot as plt\n",
    "import sympy\n",
    "from IPython.display import display\n",
    "sympy.init_printing(use_unicode=False, wrap_line=False, no_global=True)\n",
    "import scipy.constants\n",
    "import numpy as np"
   ]
  },
  {
   "cell_type": "markdown",
   "metadata": {},
   "source": [
    "# Equation of motion - SDE to be solved"
   ]
  },
  {
   "cell_type": "markdown",
   "metadata": {},
   "source": [
    "### $\\ddot{q}(t) + \\Gamma_0\\dot{q}(t) + \\Omega_0^2 q(t) -  \\dfrac{1}{m} F(t) = 0 $\n",
    "\n",
    "#### where q = x, y or z\n",
    "\n",
    "Where $F(t) = \\mathcal{F}_{fluct}(t) + F_{feedback}(t)$\n",
    "\n",
    "Taken from page 46 of 'Dynamics of optically levitated nanoparticles in high vacuum' - Thesis by Jan Gieseler "
   ]
  },
  {
   "cell_type": "markdown",
   "metadata": {},
   "source": [
    "Using $\\mathcal{F}_{fluct}(t) = \\sqrt{2m \\Gamma_0 k_B T_0}\\dfrac{dW(t)}{dt}$\n",
    "\n",
    "and $F_{feedback}(t) = \\Omega_0 \\eta q^2 \\dot{q}$\n",
    "\n",
    "Taken from page 49 of 'Dynamics of optically levitated nanoparticles in high vacuum' - Thesis by Jan Gieseler \n",
    "\n",
    "we get the following SDE:"
   ]
  },
  {
   "cell_type": "markdown",
   "metadata": {},
   "source": [
    "$\\dfrac{d^2q(t)}{dt^2} + (\\Gamma_0 - \\Omega_0 \\eta q(t)^2)\\dfrac{dq(t)}{dt} + \\Omega_0^2 q(t) - \\sqrt{\\dfrac{2\\Gamma_0 k_B T_0}{m}} \\dfrac{dW(t)}{dt} = 0$"
   ]
  },
  {
   "cell_type": "markdown",
   "metadata": {},
   "source": [
    "split into 2 first order ODE/SDE s"
   ]
  },
  {
   "cell_type": "markdown",
   "metadata": {},
   "source": [
    "letting $v = \\dfrac{dq}{dt}$\n",
    "\n",
    "$\\dfrac{dv(t)}{dt} + (\\Gamma_0 - \\Omega_0 \\eta q(t)^2)v + \\Omega_0^2 q(t) - \\sqrt{\\dfrac{2\\Gamma_0 k_B T_0}{m}} \\dfrac{dW(t)}{dt} = 0$\n",
    "\n",
    "therefore\n",
    "\n",
    "$\\dfrac{dv(t)}{dt} = -(\\Gamma_0 - \\Omega_0 \\eta q(t)^2)v - \\Omega_0^2 q(t) + \\sqrt{\\dfrac{2\\Gamma_0 k_B T_0}{m}} \\dfrac{dW(t)}{dt} $\n",
    "\n",
    "$v = \\dfrac{dq}{dt}$ therefore $dq = v~dt$"
   ]
  },
  {
   "cell_type": "markdown",
   "metadata": {},
   "source": [
    "\\begin{align}\n",
    "dq&=v\\,dt\\\\\n",
    "dv&=[-(\\Gamma_0-\\Omega_0 \\eta q(t)^2)v(t) - \\Omega_0^2 q(t)]\\,dt + \\sqrt{\\frac{2\\Gamma_0 k_B T_0}m}\\,dW\n",
    "\\end{align}\n"
   ]
  },
  {
   "cell_type": "markdown",
   "metadata": {},
   "source": [
    "### Apply Milstein Method to solve"
   ]
  },
  {
   "cell_type": "markdown",
   "metadata": {},
   "source": [
    "Consider the autonomous Itō stochastic differential equation\n",
    "\n",
    "${\\mathrm  {d}}X_{t}=a(X_{t})\\,{\\mathrm  {d}}t+b(X_{t})\\,{\\mathrm  {d}}W_{t}$"
   ]
  },
  {
   "cell_type": "markdown",
   "metadata": {},
   "source": [
    "Taking $X_t = q_t$ for the 1st equation above (i.e. $dq = v~dt$) we get:\n",
    "\n",
    "$$ a(q_t) = v $$\n",
    "$$ b(q_t) = 0 $$"
   ]
  },
  {
   "cell_type": "markdown",
   "metadata": {},
   "source": [
    "Taking $X_t = v_t$ for the 2nd equation above (i.e. $dv = ...$) we get:\n",
    "\n",
    "$$a(v_t) = -(\\Gamma_0-\\Omega_0\\eta q(t)^2)v - \\Omega_0^2 q(t)$$ \n",
    "$$b(v_t) = \\sqrt{\\dfrac{2\\Gamma_0 k_B T_0}m}$$"
   ]
  },
  {
   "cell_type": "markdown",
   "metadata": {},
   "source": [
    "${\\displaystyle b'(v_{t})=0}$ therefore the diffusion term does not depend on ${\\displaystyle v_{t}}$ , the Milstein's method in this case is therefore equivalent to the Euler–Maruyama method."
   ]
  },
  {
   "cell_type": "markdown",
   "metadata": {},
   "source": [
    "We then construct these functions in python:"
   ]
  },
  {
   "cell_type": "code",
   "execution_count": 191,
   "metadata": {
    "collapsed": true
   },
   "outputs": [],
   "source": [
    "def a_q(t, v, q):\n",
    "    return v\n",
    "\n",
    "def a_v(t, v, q):\n",
    "    return -(Gamma0 - Omega0*eta*q**2)*v - Omega0**2*q\n",
    "\n",
    "def b_v(t, v, q):\n",
    "    return np.sqrt(2*Gamma0*k_b*T_0/m)\n"
   ]
  },
  {
   "cell_type": "markdown",
   "metadata": {},
   "source": [
    "Using values obtained from fitting to data from a real particle we set the following constant values describing the system. Cooling has been assumed to be off by setting $\\eta = 0$."
   ]
  },
  {
   "cell_type": "code",
   "execution_count": 183,
   "metadata": {
    "collapsed": false
   },
   "outputs": [],
   "source": [
    "Gamma0 = 4000 # radians/second\n",
    "Omega0 = 75e3*2*np.pi # radians/second\n",
    "eta = 0.5e7\n",
    "T_0 = 300 # K\n",
    "k_b = scipy.constants.Boltzmann # J/K\n",
    "m = 3.1e-19 # KG"
   ]
  },
  {
   "cell_type": "markdown",
   "metadata": {},
   "source": [
    "partition the interval [0, T] into N equal subintervals of width $\\Delta t>0$:\n",
    "$ 0=\\tau _{0}<\\tau _{1}<\\dots <\\tau _{N}=T{\\text{ with }}\\tau _{n}:=n\\Delta t{\\text{ and }}\\Delta t={\\frac {T}{N}}$\n"
   ]
  },
  {
   "cell_type": "code",
   "execution_count": 184,
   "metadata": {
    "collapsed": false
   },
   "outputs": [],
   "source": [
    "dt = 1e-10\n",
    "tArray = np.arange(0, 100e-6, dt)"
   ]
  },
  {
   "cell_type": "code",
   "execution_count": 185,
   "metadata": {
    "collapsed": false
   },
   "outputs": [
    {
     "name": "stdout",
     "output_type": "stream",
     "text": [
      "10000000000.0 Hz\n"
     ]
    }
   ],
   "source": [
    "print(\"{} Hz\".format(1/dt))"
   ]
  },
  {
   "cell_type": "markdown",
   "metadata": {},
   "source": [
    "set $Y_{0}=x_{0}$"
   ]
  },
  {
   "cell_type": "code",
   "execution_count": 186,
   "metadata": {
    "collapsed": false
   },
   "outputs": [],
   "source": [
    "q0 = 0\n",
    "v0 = 0\n",
    "q = np.zeros_like(tArray)\n",
    "v = np.zeros_like(tArray)\n",
    "q[0] = q0\n",
    "v[0] = v0"
   ]
  },
  {
   "cell_type": "markdown",
   "metadata": {},
   "source": [
    "Generate independent and identically distributed normal random variables with expected value 0 and variance dt"
   ]
  },
  {
   "cell_type": "code",
   "execution_count": 187,
   "metadata": {
    "collapsed": false
   },
   "outputs": [],
   "source": [
    "np.random.seed(88)\n",
    "\n",
    "dwArray = np.random.normal(0, np.sqrt(dt), len(tArray)) # independent and identically distributed normal random variables with expected value 0 and variance dt"
   ]
  },
  {
   "cell_type": "markdown",
   "metadata": {},
   "source": [
    "Apply Milstein's method (Euler Maruyama if $b'(Y_{n}) = 0$ as is the case here):\n",
    "\n",
    "recursively define $Y_{n}$ for $ 1\\leq n\\leq N $ by\n",
    "\n",
    "$ Y_{{n+1}}=Y_{n}+a(Y_{n})\\Delta t+b(Y_{n})\\Delta W_{n}+{\\frac  {1}{2}}b(Y_{n})b'(Y_{n})\\left((\\Delta W_{n})^{2}-\\Delta t\\right)$\n",
    "\n",
    "Perform this for the 2 first order differential equations:"
   ]
  },
  {
   "cell_type": "code",
   "execution_count": 188,
   "metadata": {
    "collapsed": false
   },
   "outputs": [],
   "source": [
    "#%%timeit\n",
    "\n",
    "for n, t in enumerate(tArray[:-1]):\n",
    "    dw = dwArray[n]\n",
    "    v[n+1] = v[n] + a_v(t, v[n], q[n])*dt + b_v(t, v[n], q[n])*dw + 0\n",
    "    q[n+1] = q[n] + a_q(t, v[n], q[n])*dt + 0\n"
   ]
  },
  {
   "cell_type": "markdown",
   "metadata": {},
   "source": [
    "We now have an array of positions, $v$, and velocities $p$ with time $t$."
   ]
  },
  {
   "cell_type": "code",
   "execution_count": 189,
   "metadata": {
    "collapsed": false,
    "scrolled": true
   },
   "outputs": [
    {
     "data": {
      "text/plain": [
       "<matplotlib.text.Text at 0x7fc3700546d8>"
      ]
     },
     "execution_count": 189,
     "metadata": {},
     "output_type": "execute_result"
    },
    {
     "data": {
      "image/png": "[encoded data removed]",
      "text/plain": [
       "<matplotlib.figure.Figure at 0x7fc3700f4b38>"
      ]
     },
     "metadata": {},
     "output_type": "display_data"
    }
   ],
   "source": [
    "plt.plot(tArray*1e6, v)\n",
    "plt.xlabel(\"t (us)\")\n",
    "plt.ylabel(\"v\")"
   ]
  },
  {
   "cell_type": "code",
   "execution_count": 190,
   "metadata": {
    "collapsed": false
   },
   "outputs": [
    {
     "data": {
      "text/plain": [
       "<matplotlib.text.Text at 0x7fc370039f28>"
      ]
     },
     "execution_count": 190,
     "metadata": {},
     "output_type": "execute_result"
    },
    {
     "data": {
      "image/png": "[encoded data removed]",
      "text/plain": [
       "<matplotlib.figure.Figure at 0x7fc370b05278>"
      ]
     },
     "metadata": {},
     "output_type": "display_data"
    }
   ],
   "source": [
    "plt.plot(tArray*1e6, q)\n",
    "plt.xlabel(\"t (us)\")\n",
    "plt.ylabel(\"q\")"
   ]
  },
  {
   "cell_type": "markdown",
   "metadata": {},
   "source": [
    "Alternatively we can use a derivative-free version of Milsteins method as a two-stage kind-of Runge-Kutta method, documented in wikipedia (https://en.wikipedia.org/wiki/Runge%E2%80%93Kutta_method_%28SDE%29) or the original in arxiv.org https://arxiv.org/pdf/1210.0933.pdf."
   ]
  },
  {
   "cell_type": "code",
   "execution_count": 11,
   "metadata": {
    "collapsed": true
   },
   "outputs": [],
   "source": [
    "q0 = 0\n",
    "v0 = 0\n",
    "X = np.zeros([len(tArray), 2])\n",
    "X[0, 0] = q0\n",
    "X[0, 1] = v0"
   ]
  },
  {
   "cell_type": "code",
   "execution_count": 12,
   "metadata": {
    "collapsed": true
   },
   "outputs": [],
   "source": [
    "def a(t, X):\n",
    "    q, v = X\n",
    "    return np.array([v, -(Gamma0 - Omega0*eta*q**2)*v - Omega0**2*q])\n",
    "\n",
    "def b(t, X):\n",
    "    q, v = X\n",
    "    return np.array([0, np.sqrt(2*Gamma0*k_b*T_0/m)])"
   ]
  },
  {
   "cell_type": "code",
   "execution_count": 13,
   "metadata": {
    "collapsed": false
   },
   "outputs": [
    {
     "name": "stdout",
     "output_type": "stream",
     "text": [
      "1 loop, best of 3: 2.33 s per loop\n"
     ]
    }
   ],
   "source": [
    "%%timeit\n",
    "\n",
    "S = np.array([-1,1])\n",
    "for n, t in enumerate(tArray[:-1]):\n",
    "    dw = dwArray[n]\n",
    "    K1 = a(t, X[n])*dt + b(t, X[n])*(dw - S*np.sqrt(dt))\n",
    "    Xh = X[n] + K1\n",
    "    K2 = a(t, Xh)*dt + b(t, Xh)*(dw + S*np.sqrt(dt))\n",
    "    X[n+1] = X[n] + 0.5 * (K1+K2)\n"
   ]
  },
  {
   "cell_type": "code",
   "execution_count": 14,
   "metadata": {
    "collapsed": true
   },
   "outputs": [],
   "source": [
    "q = X[:, 0]\n",
    "v = X[:, 1]"
   ]
  },
  {
   "cell_type": "code",
   "execution_count": 15,
   "metadata": {
    "collapsed": false
   },
   "outputs": [
    {
     "data": {
      "text/plain": [
       "<matplotlib.text.Text at 0x7fc37303feb8>"
      ]
     },
     "execution_count": 15,
     "metadata": {},
     "output_type": "execute_result"
    },
    {
     "data": {
      "image/png": "[encoded data removed]",
      "text/plain": [
       "<matplotlib.figure.Figure at 0x7fc37303f8d0>"
      ]
     },
     "metadata": {},
     "output_type": "display_data"
    }
   ],
   "source": [
    "plt.plot(tArray*1e6, v)\n",
    "plt.xlabel(\"t (us)\")\n",
    "plt.ylabel(\"v\")"
   ]
  },
  {
   "cell_type": "code",
   "execution_count": 16,
   "metadata": {
    "collapsed": false
   },
   "outputs": [
    {
     "data": {
      "text/plain": [
       "<matplotlib.text.Text at 0x7fc372f9eba8>"
      ]
     },
     "execution_count": 16,
     "metadata": {},
     "output_type": "execute_result"
    },
    {
     "data": {
      "image/png": "[encoded data removed]",
      "text/plain": [
       "<matplotlib.figure.Figure at 0x7fc3730489b0>"
      ]
     },
     "metadata": {},
     "output_type": "display_data"
    }
   ],
   "source": [
    "plt.plot(tArray*1e6, q)\n",
    "plt.xlabel(\"t (us)\")\n",
    "plt.ylabel(\"q\")"
   ]
  },
  {
   "cell_type": "markdown",
   "metadata": {
    "collapsed": true
   },
   "source": [
    "The form of $F_{feedback}(t)$ is still questionable\n",
    "\n",
    "On page 49 of 'Dynamics of optically levitated nanoparticles in high vacuum' - Thesis by Jan Gieseler he uses the form: $F_{feedback}(t) = \\Omega_0 \\eta q^2 \\dot{q}$\n",
    "\n",
    "On page 2 of 'Parametric feeedback cooling of levitated optomechancs in a parabolic mirror trap' Paper by Jamie and Muddassar they use the form: $F_{feedback}(t) = \\dfrac{\\Omega_0 \\eta q^2 \\dot{q}}{q_0^2}$ where $q_0$ is the amplitude of the motion: $q(t) = q_0(sin(\\omega_0t)$\n",
    "\n",
    "However it always shows up as a term $\\delta \\Gamma$ like so:\n",
    "\n",
    "$\\dfrac{d^2q(t)}{dt^2} + (\\Gamma_0 + \\delta \\Gamma)\\dfrac{dq(t)}{dt} + \\Omega_0^2 q(t) - \\sqrt{\\dfrac{2\\Gamma_0 k_B T_0}{m}} \\dfrac{dW(t)}{dt} = 0$"
   ]
  },
  {
   "cell_type": "markdown",
   "metadata": {
    "collapsed": true
   },
   "source": [
    "By fitting to data we extract the following 3 parameters:\n",
    "\n",
    "1) $A = \\gamma^2 \\dfrac{k_B T_0}{\\pi m}\\Gamma_0 $\n",
    "\n",
    "Where:\n",
    "\n",
    "- $\\gamma$ is the conversion factor between Volts and nanometres. This parameterises the amount of light/ number of photons collected from the nanoparticle. With unchanged allignment and the same particle this should remain constant with changes in pressure.\n",
    "- $m$ is the mass of the particle, a constant\n",
    "- $T_0$ is the temperature of the environment\n",
    "- $\\Gamma_0$ the damping due to the environment only\n",
    "\n",
    "2) $\\Omega_0$ - the natural frequency at this trapping power\n",
    "\n",
    "3) $\\Gamma$ - the total damping on the system including environment and feedback etc...\n",
    "\n",
    "By taking a reference save with no cooling we have $\\Gamma = \\Gamma_0$ and therefore we can extract $A' = \\gamma^2 \\dfrac{k_B T_0}{\\pi m}$. Since $A'$ should be constant with pressure we can therefore extract $\\Gamma_0$ at any pressure (if we have a reference save and therefore a value of $A'$) and therefore can extract $\\delta \\Gamma$, the damping due to cooling, we can then plug this into our SDE instead in order to include cooling in the SDE model.\n",
    "\n",
    "For any dataset at any pressure we can do:\n",
    "\n",
    "$\\Gamma_0 = \\dfrac{A}{A'}$ \n",
    "\n",
    "And then $\\delta \\Gamma = \\Gamma - \\Gamma_0$"
   ]
  },
  {
   "cell_type": "markdown",
   "metadata": {},
   "source": [
    "Using this form and the same derivation as above we arrive at the following form of the 2 1st order differential equations:\n",
    "\n",
    "\\begin{align}\n",
    "dq&=v\\,dt\\\\\n",
    "dv&=[-(\\Gamma_0 + \\delta \\Gamma)v(t) - \\Omega_0^2 v(t)]\\,dt + \\sqrt{\\frac{2\\Gamma_0 k_B T_0}m}\\,dW\n",
    "\\end{align}\n"
   ]
  },
  {
   "cell_type": "code",
   "execution_count": 192,
   "metadata": {
    "collapsed": true
   },
   "outputs": [],
   "source": [
    "def a_q(t, v, q):\n",
    "    return v\n",
    "\n",
    "def a_v(t, v, q):\n",
    "    return -(Gamma0 + deltaGamma)*v - Omega0**2*q\n",
    "\n",
    "def b_v(t, v, q):\n",
    "    return np.sqrt(2*Gamma0*k_b*T_0/m)\n"
   ]
  },
  {
   "cell_type": "markdown",
   "metadata": {},
   "source": [
    "values below are taken from a ~1e-2 mbar cooled save "
   ]
  },
  {
   "cell_type": "code",
   "execution_count": 221,
   "metadata": {
    "collapsed": true
   },
   "outputs": [],
   "source": [
    "Gamma0 = 15 # radians/second\n",
    "deltaGamma = 2200\n",
    "Omega0 = 75e3*2*np.pi # radians/second\n",
    "eta = 0.5e7\n",
    "T_0 = 300 # K\n",
    "k_b = scipy.constants.Boltzmann # J/K\n",
    "m = 3.1e-19 # KG"
   ]
  },
  {
   "cell_type": "code",
   "execution_count": 222,
   "metadata": {
    "collapsed": true
   },
   "outputs": [],
   "source": [
    "dt = 1e-10\n",
    "tArray = np.arange(0, 100e-6, dt)"
   ]
  },
  {
   "cell_type": "code",
   "execution_count": 223,
   "metadata": {
    "collapsed": true
   },
   "outputs": [],
   "source": [
    "q0 = 0\n",
    "v0 = 0\n",
    "q = np.zeros_like(tArray)\n",
    "v = np.zeros_like(tArray)\n",
    "q[0] = q0\n",
    "v[0] = v0"
   ]
  },
  {
   "cell_type": "code",
   "execution_count": 224,
   "metadata": {
    "collapsed": true
   },
   "outputs": [],
   "source": [
    "np.random.seed(88)\n",
    "\n",
    "dwArray = np.random.normal(0, np.sqrt(dt), len(tArray)) # independent and identically distributed normal random variables with expected value 0 and variance dt"
   ]
  },
  {
   "cell_type": "code",
   "execution_count": 225,
   "metadata": {
    "collapsed": true
   },
   "outputs": [],
   "source": [
    "for n, t in enumerate(tArray[:-1]):\n",
    "    dw = dwArray[n]\n",
    "    v[n+1] = v[n] + a_v(t, v[n], q[n])*dt + b_v(t, v[n], q[n])*dw + 0\n",
    "    q[n+1] = q[n] + a_q(t, v[n], q[n])*dt + 0\n"
   ]
  },
  {
   "cell_type": "code",
   "execution_count": 226,
   "metadata": {
    "collapsed": false
   },
   "outputs": [
    {
     "data": {
      "text/plain": [
       "<matplotlib.text.Text at 0x7fc36b4bdac8>"
      ]
     },
     "execution_count": 226,
     "metadata": {},
     "output_type": "execute_result"
    },
    {
     "data": {
      "image/png": "[encoded data removed]",
      "text/plain": [
       "<matplotlib.figure.Figure at 0x7fc36b5ccf98>"
      ]
     },
     "metadata": {},
     "output_type": "display_data"
    }
   ],
   "source": [
    "plt.plot(tArray*1e6, v)\n",
    "plt.xlabel(\"t (us)\")\n",
    "plt.ylabel(\"v\")"
   ]
  },
  {
   "cell_type": "code",
   "execution_count": 227,
   "metadata": {
    "collapsed": false
   },
   "outputs": [
    {
     "data": {
      "text/plain": [
       "<matplotlib.text.Text at 0x7fc36b4244a8>"
      ]
     },
     "execution_count": 227,
     "metadata": {},
     "output_type": "execute_result"
    },
    {
     "data": {
      "image/png": "[encoded data removed]",
      "text/plain": [
       "<matplotlib.figure.Figure at 0x7fc36b4d3978>"
      ]
     },
     "metadata": {},
     "output_type": "display_data"
    }
   ],
   "source": [
    "plt.plot(tArray*1e6, q)\n",
    "plt.xlabel(\"t (us)\")\n",
    "plt.ylabel(\"q\")"
   ]
  },
  {
   "cell_type": "code",
   "execution_count": null,
   "metadata": {
    "collapsed": true
   },
   "outputs": [],
   "source": []
  },
  {
   "cell_type": "code",
   "execution_count": null,
   "metadata": {
    "collapsed": true
   },
   "outputs": [],
   "source": []
  }
 ],
 "metadata": {
  "kernelspec": {
   "display_name": "Python 3",
   "language": "python",
   "name": "python3"
  },
  "language_info": {
   "codemirror_mode": {
    "name": "ipython",
    "version": 3
   },
   "file_extension": ".py",
   "mimetype": "text/x-python",
   "name": "python",
   "nbconvert_exporter": "python",
   "pygments_lexer": "ipython3",
   "version": "3.6.0"
  }
 },
 "nbformat": 4,
 "nbformat_minor": 2
}
