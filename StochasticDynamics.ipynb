{
 "cells": [
  {
   "cell_type": "markdown",
   "metadata": {},
   "source": [
    "## Unmodified Particle Dynamics"
   ]
  },
  {
   "cell_type": "markdown",
   "metadata": {},
   "source": [
    "$$ \\ddot{q(t)} + \\Gamma_0\\dot{q(t)} + \\Omega_0^2q(t) - \\color{orange}{\\alpha^3 q(t)^3} - \\sqrt{\\dfrac{2\\Gamma_0 k_B T_0}{m}} \\dfrac{dW(t)}{dt} = 0$$"
   ]
  },
  {
   "cell_type": "markdown",
   "metadata": {},
   "source": [
    "## Modified Particle Dynamics"
   ]
  },
  {
   "cell_type": "markdown",
   "metadata": {},
   "source": [
    "$$ \\ddot{q(t)} + \\Gamma_0\\dot{q(t)} + \\color{brown}{Sq}\\Omega_0^2q(t) + \\color{blue}{A_D sin(2\\phi(t) + \\theta_D)q(t)} + \\color{red}{A_S sin(\\phi(t) + \\theta_S)q(t)} - \\color{orange}{\\alpha^3 q(t)^3} - \\sqrt{\\dfrac{2\\Gamma_0 k_B T_0}{m}} \\dfrac{dW(t)}{dt} = 0 $$"
   ]
  },
  {
   "cell_type": "markdown",
   "metadata": {},
   "source": [
    "$\\color{brown}{Sq}$ parameterises squeezing pulses\n",
    "\n",
    "$\\color{blue}{A_D sin(2\\phi(t) + \\theta_D)q(t)}$ parameterises paramatric feedback at twice the particle's frequency $\\Omega_0$\n",
    "\n",
    "$\\color{red}{A_S sin(\\phi(t) + \\theta_S)q(t)}$ parameterises linear feedback at the frequency of the particle $\\Omega_0$"
   ]
  },
  {
   "cell_type": "markdown",
   "metadata": {},
   "source": [
    "Where:\n",
    "\n",
    "$$ \\phi(t) = tan^{-1}\\left(\\dfrac{q}{p}\\right) = tan^{-1}\\left(\\dfrac{q}{\\left(\\frac{v}{\\Omega_0}\\right)}\\right) $$\n",
    "\n",
    "i.e. the phase of the particle oscillation (angle made in polar coordinates in $x$-$p$ phase space).\n",
    "\n",
    "$$ Sq =   \\begin{cases}\n",
    "    (1-\\eta)       & \\quad \\text{if } t_0 \\le t < t_0+\\dfrac{1}{4}T_{\\Omega_1} \\\\\n",
    "    1  & \\quad \\text{otherwise}\n",
    "  \\end{cases}\n",
    "$$\n",
    "\n",
    "Where $\\eta$ is the squeezing pulse depth\n",
    "\n",
    "and $T_{\\Omega_1}$ is a the time for a single oscillation at the lower trap power $P_1 = (1-\\eta)P$ i.e. $T_{\\Omega_1} = \\dfrac{2\\pi}{\\Omega_1} = \\dfrac{2\\pi}{\\sqrt{1-\\eta}\\Omega_0}$"
   ]
  },
  {
   "cell_type": "markdown",
   "metadata": {},
   "source": [
    "## Transformation to autonomous Ito Form of SDE"
   ]
  },
  {
   "cell_type": "markdown",
   "metadata": {},
   "source": [
    "### i.e. $dX_t = a(X_t)dt + b(X_t)dW_t$"
   ]
  },
  {
   "cell_type": "markdown",
   "metadata": {},
   "source": [
    "Letting $v = \\dfrac{dq}{dt}$"
   ]
  },
  {
   "cell_type": "markdown",
   "metadata": {},
   "source": [
    "$$ \\dfrac{dv(t)}{dt} + \\Gamma_0 v(t) + \\color{brown}{Sq}\\Omega_0^2q(t) + \\color{blue}{A_D sin(2\\phi(t) + \\theta_D)q(t)} + \\color{red}{A_S sin(\\phi(t) + \\theta_S)q(t)} - \\color{orange}{\\alpha^3 q(t)^3} - \\sqrt{\\dfrac{2\\Gamma_0 k_B T_0}{m}} \\dfrac{dW(t)}{dt} = 0 $$"
   ]
  },
  {
   "cell_type": "markdown",
   "metadata": {},
   "source": [
    "Rearranging we get:\n",
    "\n",
    "$$ \\dfrac{dv(t)}{dt} = -\\Gamma_0 v(t) - \\color{brown}{Sq}\\Omega_0^2q(t) - \\color{blue}{A_D sin(2\\phi(t) + \\theta_D)q(t)} - \\color{red}{A_S sin(\\phi(t) + \\theta_S)q(t)} + \\color{orange}{\\alpha^3 q(t)^3} + \\sqrt{\\dfrac{2\\Gamma_0 k_B T_0}{m}}\\dfrac{dW(t)}{dt} $$"
   ]
  },
  {
   "cell_type": "markdown",
   "metadata": {},
   "source": [
    "multiplying through by dt and changing to discrete time (i.e. $f(t) -> f_t$) we get this SDE in autonomous Ito form i.e. $dX_t = a(X_t)dt + b(X_t)dW_t$"
   ]
  },
  {
   "cell_type": "markdown",
   "metadata": {},
   "source": [
    "$$ dv_t = [-\\Gamma_0 v_t - \\color{brown}{Sq}\\Omega_0^2 q_t - \\color{blue}{A_D sin(2\\phi_t + \\theta_D)q_t} - \\color{red}{A_S sin(\\phi_t + \\theta_S)q_t)} + \\color{orange}{\\alpha^3 q_t^3}] dt + \\sqrt{\\dfrac{2\\Gamma_0 k_B T_0}{m}} dW_t $$"
   ]
  },
  {
   "cell_type": "markdown",
   "metadata": {},
   "source": [
    "and equivalently $v = \\dfrac{dq}{dt}$ -->  $dq_t = v_t dt$"
   ]
  },
  {
   "cell_type": "markdown",
   "metadata": {},
   "source": [
    "This can then be solved with any SDE solving method e.g. Euler-Maruyama, Milstein's Method, Stochastic Runge Kutta, etc..."
   ]
  },
  {
   "cell_type": "markdown",
   "metadata": {},
   "source": [
    "## Stochastic 2-stage Runge Kutta (RK2) Solver"
   ]
  },
  {
   "cell_type": "markdown",
   "metadata": {},
   "source": [
    "I choose to use a derivative-free 2-stage Runge-Kutta variant of Milsteins method detailed in this 2011 paper: https://arxiv.org/pdf/1210.0933.pdf. This derivative-free method was chosen because methods such as Milstein's method use the derivative of the $b(X_t)$ function multiplying the Weiner process, which is 0 for this differential equation. "
   ]
  },
  {
   "cell_type": "markdown",
   "metadata": {},
   "source": [
    "for an SDE of in autonamous Ito Form: $dX_t = a(X_t)dt + b(X_t)dW_t$\n",
    "\n",
    "Each step of the method progresses like so:"
   ]
  },
  {
   "cell_type": "markdown",
   "metadata": {},
   "source": [
    "$$ \\text{S = random choice of ([-1,1]) with equal chance of each} $$\n",
    "\n",
    "$$K_1 = a(X_t)*dt + b(X_t)*(dW + S*\\sqrt{dt})$$\n",
    "\n",
    "$$X_h = X + K_1$$\n",
    "\n",
    "$$K_2 = a(X_h)*dt + b(X_h)*(dW - S*\\sqrt{dt})$$\n",
    "\n",
    "$$X_{t+1} = X_t + \\dfrac{1}{2}(K_1 + K_2)$$"
   ]
  },
  {
   "cell_type": "markdown",
   "metadata": {},
   "source": [
    "Where $dW$ is the usual Weiner Process $dW = \\mathcal{N}(0, \\sqrt{dt})$\n",
    "\n",
    "A normal/gaussian random number with mean $0$ and variance $\\sqrt{dt}$ where $dt$ is the time increment used in solving the SDE."
   ]
  },
  {
   "cell_type": "code",
   "execution_count": null,
   "metadata": {
    "collapsed": true
   },
   "outputs": [],
   "source": []
  }
 ],
 "metadata": {
  "kernelspec": {
   "display_name": "Python 3",
   "language": "python",
   "name": "python3"
  },
  "language_info": {
   "codemirror_mode": {
    "name": "ipython",
    "version": 3
   },
   "file_extension": ".py",
   "mimetype": "text/x-python",
   "name": "python",
   "nbconvert_exporter": "python",
   "pygments_lexer": "ipython3",
   "version": "3.6.0"
  }
 },
 "nbformat": 4,
 "nbformat_minor": 2
}
